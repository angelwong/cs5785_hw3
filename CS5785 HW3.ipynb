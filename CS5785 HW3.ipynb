{
 "cells": [
  {
   "cell_type": "code",
   "execution_count": 86,
   "metadata": {
    "collapsed": false
   },
   "outputs": [],
   "source": [
    "amazon = []\n",
    "imdb = []\n",
    "yelp = []\n",
    "\n",
    "for line in open(\"sentiment labelled sentences/amazon_cells_labelled.txt\"):\n",
    "    line_tabs = line.split('\\t')\n",
    "    num_split = line_tabs[1].split('\\n')\n",
    "    #print line_tabs[0]\n",
    "    if num_split[0]:\n",
    "        amazon.append((line_tabs[0], num_split[0]))\n",
    "        \n",
    "for line in open(\"sentiment labelled sentences/imdb_labelled.txt\"):\n",
    "    line_tabs = line.split('\\t')\n",
    "    num_split = line_tabs[1].split('\\n')\n",
    "    #print line_tabs[0]\n",
    "    if num_split[0]:\n",
    "        imdb.append((line_tabs[0], num_split[0]))\n",
    "        \n",
    "for line in open(\"sentiment labelled sentences/yelp_labelled.txt\"):\n",
    "    line_tabs = line.split('\\t')\n",
    "    num_split = line_tabs[1].split('\\n')\n",
    "    #print line_tabs[0]\n",
    "    if num_split[0]:\n",
    "        yelp.append((line_tabs[0], num_split[0]))"
   ]
  },
  {
   "cell_type": "code",
   "execution_count": 28,
   "metadata": {
    "collapsed": false
   },
   "outputs": [
    {
     "ename": "TypeError",
     "evalue": "list indices must be integers, not tuple",
     "output_type": "error",
     "traceback": [
      "\u001b[0;31m---------------------------------------------------------------------------\u001b[0m",
      "\u001b[0;31mTypeError\u001b[0m                                 Traceback (most recent call last)",
      "\u001b[0;32m<ipython-input-28-f1e2aec8765b>\u001b[0m in \u001b[0;36m<module>\u001b[0;34m()\u001b[0m\n\u001b[1;32m      1\u001b[0m \u001b[0;32mfrom\u001b[0m \u001b[0mcollections\u001b[0m \u001b[0;32mimport\u001b[0m \u001b[0mdefaultdict\u001b[0m\u001b[0;34m\u001b[0m\u001b[0m\n\u001b[1;32m      2\u001b[0m \u001b[0;34m\u001b[0m\u001b[0m\n\u001b[0;32m----> 3\u001b[0;31m \u001b[0;32mprint\u001b[0m \u001b[0mamazon\u001b[0m\u001b[0;34m[\u001b[0m\u001b[0;34m:\u001b[0m\u001b[0;34m,\u001b[0m\u001b[0;36m1\u001b[0m\u001b[0;34m]\u001b[0m\u001b[0;34m\u001b[0m\u001b[0m\n\u001b[0m\u001b[1;32m      4\u001b[0m \u001b[0;34m\u001b[0m\u001b[0m\n\u001b[1;32m      5\u001b[0m \u001b[0;31m#d = defaultdict(int)\u001b[0m\u001b[0;34m\u001b[0m\u001b[0;34m\u001b[0m\u001b[0m\n",
      "\u001b[0;31mTypeError\u001b[0m: list indices must be integers, not tuple"
     ]
    }
   ],
   "source": [
    "from collections import defaultdict\n",
    "\n",
    "print amazon[:,1]\n",
    "\n",
    "#d = defaultdict(int)\n",
    "#for num in amazon[:,1].split():\n",
    "#    d[word] += 1\n",
    "    \n",
    "print len(amazon)\n",
    "print len(imdb)\n",
    "print len(yelp)"
   ]
  },
  {
   "cell_type": "code",
   "execution_count": 122,
   "metadata": {
    "collapsed": false
   },
   "outputs": [],
   "source": [
    "import numpy as np\n",
    "amazon_np = np.array(amazon, dtype = ([('line','|S149'),('score', np.int64)]))\n",
    "imdb_np = np.array(imdb, dtype = ([('line','|S149'),('score', np.int64)]))\n",
    "yelp_np = np.array(yelp, dtype = ([('line','|S149'),('score', np.int64)]))"
   ]
  },
  {
   "cell_type": "code",
   "execution_count": 124,
   "metadata": {
    "collapsed": false
   },
   "outputs": [
    {
     "data": {
      "text/plain": [
       "array([500, 500])"
      ]
     },
     "execution_count": 124,
     "metadata": {},
     "output_type": "execute_result"
    }
   ],
   "source": [
    "print np.bincount(amazon_np['score'])\n",
    "print np.bincount(imdb_np['score'])\n",
    "printnp.bincount(yelp_np['score'])"
   ]
  },
  {
   "cell_type": "code",
   "execution_count": null,
   "metadata": {
    "collapsed": true
   },
   "outputs": [],
   "source": []
  }
 ],
 "metadata": {
  "kernelspec": {
   "display_name": "Python 2",
   "language": "python",
   "name": "python2"
  },
  "language_info": {
   "codemirror_mode": {
    "name": "ipython",
    "version": 2
   },
   "file_extension": ".py",
   "mimetype": "text/x-python",
   "name": "python",
   "nbconvert_exporter": "python",
   "pygments_lexer": "ipython2",
   "version": "2.7.10"
  }
 },
 "nbformat": 4,
 "nbformat_minor": 0
}
